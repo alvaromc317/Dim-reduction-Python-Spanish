{
 "cells": [
  {
   "cell_type": "markdown",
   "metadata": {},
   "source": [
    "![image.png](plots/dim_red_intro.png)"
   ]
  },
  {
   "cell_type": "markdown",
   "metadata": {},
   "source": [
    "En los problemas de machine learning es habitual trabajar con decenas, cientos o incluso miles de variables simultaneamente a la hora de hacer predicciones. Cuantas más variables tengamos, mejor, ¿no? Más información tendremos disponible... __Cuidado, porque eso no tiene porque ser cierto__. Puede que muchas de las variables del conjunto nos den información redundante (por ejemplo, código postal y ciudad), o puede que la información que nos están dando simplemente no sea relevante para nuestro problema (por ejemplo, el color de ojos para predecir la morosidad). Todas esas variables extra lo único que hacen es ocupar memoria en el ordenador, ralentizar la ejecución de los algoritmos y, en última instancia, producir predicciones que estén sobre ajustadas.\n",
    "\n",
    "Esto es lo que se conoce como __la maldición de la dimensionalidad__, y la forma de luchar contra este problema es... reduciendo la dimensión. Existen varias formas de reducir la dimensión de un conjunto de datos. Aquí nos centraremos en dos alternativas:\n",
    "\n",
    "* Selección de variables\n",
    "\n",
    "* Proyecciones\n",
    "\n",
    "# Selección de variables con filtering\n",
    "___\n",
    "\n",
    "La idea intuitiva detrás de la selección de variables es sencilla: intentar seleccionar las variables más importantes de nuestro conjunto, y descartar las demás. Aquí nos centraremos en la selección con filtering:\n",
    "\n",
    "* Filtering: Hacemos un ranking de importancia de las variables y filtramos para quedarnos con las primeras del ranking. Después ejecutamos nuestro modelo con este subconjunto de variables.\n",
    "\n",
    "## BostonHousing\n",
    "Para ello, veamos un ejemplo. Nos descargaremos el conjunto de datos de __Boston Housing__, que contiene información sobre el precio mediano de la vivienda en diferentes barrios de la ciudad de boston, así como una serie de variables socio-económicas de esos barrios. El objetivo de este problema es predecir el precio mediano de la vivienda en un barrio dadas el resto de variables. Empecemos descargando los datos."
   ]
  },
  {
   "cell_type": "code",
   "execution_count": 1,
   "metadata": {},
   "outputs": [],
   "source": [
    "import numpy as np\n",
    "import matplotlib.pyplot as plt\n",
    "import pandas as pd\n",
    "\n",
    "from sklearn.datasets import load_boston\n",
    "\n",
    "%matplotlib inline\n",
    "\n",
    "np.random.seed(5) # Los resultados del notebook serán los mismos en cada ejecución"
   ]
  },
  {
   "cell_type": "code",
   "execution_count": 2,
   "metadata": {},
   "outputs": [],
   "source": [
    "boston = load_boston()\n",
    "X_boston = pd.DataFrame(boston.data, columns = boston.feature_names)\n",
    "\n",
    "y_boston = boston.target"
   ]
  },
  {
   "cell_type": "code",
   "execution_count": 3,
   "metadata": {},
   "outputs": [
    {
     "data": {
      "text/html": [
       "<div>\n",
       "<style scoped>\n",
       "    .dataframe tbody tr th:only-of-type {\n",
       "        vertical-align: middle;\n",
       "    }\n",
       "\n",
       "    .dataframe tbody tr th {\n",
       "        vertical-align: top;\n",
       "    }\n",
       "\n",
       "    .dataframe thead th {\n",
       "        text-align: right;\n",
       "    }\n",
       "</style>\n",
       "<table border=\"1\" class=\"dataframe\">\n",
       "  <thead>\n",
       "    <tr style=\"text-align: right;\">\n",
       "      <th></th>\n",
       "      <th>CRIM</th>\n",
       "      <th>ZN</th>\n",
       "      <th>INDUS</th>\n",
       "      <th>CHAS</th>\n",
       "      <th>NOX</th>\n",
       "      <th>RM</th>\n",
       "      <th>AGE</th>\n",
       "      <th>DIS</th>\n",
       "      <th>RAD</th>\n",
       "      <th>TAX</th>\n",
       "      <th>PTRATIO</th>\n",
       "      <th>B</th>\n",
       "      <th>LSTAT</th>\n",
       "    </tr>\n",
       "  </thead>\n",
       "  <tbody>\n",
       "    <tr>\n",
       "      <th>count</th>\n",
       "      <td>506.000000</td>\n",
       "      <td>506.000000</td>\n",
       "      <td>506.000000</td>\n",
       "      <td>506.000000</td>\n",
       "      <td>506.000000</td>\n",
       "      <td>506.000000</td>\n",
       "      <td>506.000000</td>\n",
       "      <td>506.000000</td>\n",
       "      <td>506.000000</td>\n",
       "      <td>506.000000</td>\n",
       "      <td>506.000000</td>\n",
       "      <td>506.000000</td>\n",
       "      <td>506.000000</td>\n",
       "    </tr>\n",
       "    <tr>\n",
       "      <th>mean</th>\n",
       "      <td>3.613524</td>\n",
       "      <td>11.363636</td>\n",
       "      <td>11.136779</td>\n",
       "      <td>0.069170</td>\n",
       "      <td>0.554695</td>\n",
       "      <td>6.284634</td>\n",
       "      <td>68.574901</td>\n",
       "      <td>3.795043</td>\n",
       "      <td>9.549407</td>\n",
       "      <td>408.237154</td>\n",
       "      <td>18.455534</td>\n",
       "      <td>356.674032</td>\n",
       "      <td>12.653063</td>\n",
       "    </tr>\n",
       "    <tr>\n",
       "      <th>std</th>\n",
       "      <td>8.601545</td>\n",
       "      <td>23.322453</td>\n",
       "      <td>6.860353</td>\n",
       "      <td>0.253994</td>\n",
       "      <td>0.115878</td>\n",
       "      <td>0.702617</td>\n",
       "      <td>28.148861</td>\n",
       "      <td>2.105710</td>\n",
       "      <td>8.707259</td>\n",
       "      <td>168.537116</td>\n",
       "      <td>2.164946</td>\n",
       "      <td>91.294864</td>\n",
       "      <td>7.141062</td>\n",
       "    </tr>\n",
       "    <tr>\n",
       "      <th>min</th>\n",
       "      <td>0.006320</td>\n",
       "      <td>0.000000</td>\n",
       "      <td>0.460000</td>\n",
       "      <td>0.000000</td>\n",
       "      <td>0.385000</td>\n",
       "      <td>3.561000</td>\n",
       "      <td>2.900000</td>\n",
       "      <td>1.129600</td>\n",
       "      <td>1.000000</td>\n",
       "      <td>187.000000</td>\n",
       "      <td>12.600000</td>\n",
       "      <td>0.320000</td>\n",
       "      <td>1.730000</td>\n",
       "    </tr>\n",
       "    <tr>\n",
       "      <th>25%</th>\n",
       "      <td>0.082045</td>\n",
       "      <td>0.000000</td>\n",
       "      <td>5.190000</td>\n",
       "      <td>0.000000</td>\n",
       "      <td>0.449000</td>\n",
       "      <td>5.885500</td>\n",
       "      <td>45.025000</td>\n",
       "      <td>2.100175</td>\n",
       "      <td>4.000000</td>\n",
       "      <td>279.000000</td>\n",
       "      <td>17.400000</td>\n",
       "      <td>375.377500</td>\n",
       "      <td>6.950000</td>\n",
       "    </tr>\n",
       "    <tr>\n",
       "      <th>50%</th>\n",
       "      <td>0.256510</td>\n",
       "      <td>0.000000</td>\n",
       "      <td>9.690000</td>\n",
       "      <td>0.000000</td>\n",
       "      <td>0.538000</td>\n",
       "      <td>6.208500</td>\n",
       "      <td>77.500000</td>\n",
       "      <td>3.207450</td>\n",
       "      <td>5.000000</td>\n",
       "      <td>330.000000</td>\n",
       "      <td>19.050000</td>\n",
       "      <td>391.440000</td>\n",
       "      <td>11.360000</td>\n",
       "    </tr>\n",
       "    <tr>\n",
       "      <th>75%</th>\n",
       "      <td>3.677083</td>\n",
       "      <td>12.500000</td>\n",
       "      <td>18.100000</td>\n",
       "      <td>0.000000</td>\n",
       "      <td>0.624000</td>\n",
       "      <td>6.623500</td>\n",
       "      <td>94.075000</td>\n",
       "      <td>5.188425</td>\n",
       "      <td>24.000000</td>\n",
       "      <td>666.000000</td>\n",
       "      <td>20.200000</td>\n",
       "      <td>396.225000</td>\n",
       "      <td>16.955000</td>\n",
       "    </tr>\n",
       "    <tr>\n",
       "      <th>max</th>\n",
       "      <td>88.976200</td>\n",
       "      <td>100.000000</td>\n",
       "      <td>27.740000</td>\n",
       "      <td>1.000000</td>\n",
       "      <td>0.871000</td>\n",
       "      <td>8.780000</td>\n",
       "      <td>100.000000</td>\n",
       "      <td>12.126500</td>\n",
       "      <td>24.000000</td>\n",
       "      <td>711.000000</td>\n",
       "      <td>22.000000</td>\n",
       "      <td>396.900000</td>\n",
       "      <td>37.970000</td>\n",
       "    </tr>\n",
       "  </tbody>\n",
       "</table>\n",
       "</div>"
      ],
      "text/plain": [
       "             CRIM          ZN       INDUS        CHAS         NOX          RM  \\\n",
       "count  506.000000  506.000000  506.000000  506.000000  506.000000  506.000000   \n",
       "mean     3.613524   11.363636   11.136779    0.069170    0.554695    6.284634   \n",
       "std      8.601545   23.322453    6.860353    0.253994    0.115878    0.702617   \n",
       "min      0.006320    0.000000    0.460000    0.000000    0.385000    3.561000   \n",
       "25%      0.082045    0.000000    5.190000    0.000000    0.449000    5.885500   \n",
       "50%      0.256510    0.000000    9.690000    0.000000    0.538000    6.208500   \n",
       "75%      3.677083   12.500000   18.100000    0.000000    0.624000    6.623500   \n",
       "max     88.976200  100.000000   27.740000    1.000000    0.871000    8.780000   \n",
       "\n",
       "              AGE         DIS         RAD         TAX     PTRATIO           B  \\\n",
       "count  506.000000  506.000000  506.000000  506.000000  506.000000  506.000000   \n",
       "mean    68.574901    3.795043    9.549407  408.237154   18.455534  356.674032   \n",
       "std     28.148861    2.105710    8.707259  168.537116    2.164946   91.294864   \n",
       "min      2.900000    1.129600    1.000000  187.000000   12.600000    0.320000   \n",
       "25%     45.025000    2.100175    4.000000  279.000000   17.400000  375.377500   \n",
       "50%     77.500000    3.207450    5.000000  330.000000   19.050000  391.440000   \n",
       "75%     94.075000    5.188425   24.000000  666.000000   20.200000  396.225000   \n",
       "max    100.000000   12.126500   24.000000  711.000000   22.000000  396.900000   \n",
       "\n",
       "            LSTAT  \n",
       "count  506.000000  \n",
       "mean    12.653063  \n",
       "std      7.141062  \n",
       "min      1.730000  \n",
       "25%      6.950000  \n",
       "50%     11.360000  \n",
       "75%     16.955000  \n",
       "max     37.970000  "
      ]
     },
     "execution_count": 3,
     "metadata": {},
     "output_type": "execute_result"
    }
   ],
   "source": [
    "X_boston.describe()"
   ]
  },
  {
   "cell_type": "markdown",
   "metadata": {},
   "source": [
    "Veamos un histograma de la variable respuesta."
   ]
  },
  {
   "cell_type": "code",
   "execution_count": 4,
   "metadata": {},
   "outputs": [
    {
     "data": {
      "image/png": "[encoded data removed]",
      "text/plain": [
       "<Figure size 432x288 with 1 Axes>"
      ]
     },
     "metadata": {
      "needs_background": "light"
     },
     "output_type": "display_data"
    }
   ],
   "source": [
    "p = plt.hist(y_boston, bins=50)"
   ]
  },
  {
   "cell_type": "markdown",
   "metadata": {},
   "source": [
    "### <font color='D12828'> Ejercicio: </font>\n",
    "1. Obtén un scatterplot entre la variable respuesta y cada una de las variables predictoras. Pista: Usa `plt.subplot` y un bucle `for`."
   ]
  },
  {
   "cell_type": "code",
   "execution_count": 36,
   "metadata": {},
   "outputs": [],
   "source": [
    "# Ejercicio\n",
    "\n",
    "plt.figure(figsize=(16, 13))\n",
    "\n",
    "for idx, var in enumerate(X_boston.columns):\n",
    "    plt.subplot(4, 4, idx+1)\n",
    "    plt.scatter(X_boston[var], y_boston)\n",
    "    plt.title(var)"
   ]
  },
  {
   "cell_type": "markdown",
   "metadata": {},
   "source": [
    "### <font color='D12828'> Ejercicio: </font>\n",
    "1. Divide el conjunto de datos en `X_boston_train`, `y_boston_train`, `X_boston_test`, `y_boston_test` usando un 80% de los datos para training. Pista: `from sklearn.model_selection import train_test_split`\n",
    "\n",
    "2. Estandariza el conjunto de datos de train y de test y llámalos `X_boston_train_s` y `X_boston_test_s`. Pista: `from sklearn.preprocessing import StandardScaler`"
   ]
  },
  {
   "cell_type": "code",
   "execution_count": 6,
   "metadata": {},
   "outputs": [],
   "source": [
    "# Ejercicio\n",
    "\n",
    "from sklearn.model_selection import train_test_split\n",
    "from sklearn.preprocessing import StandardScaler\n",
    "\n",
    "X_boston_train, X_boston_test, y_boston_train, y_boston_test = train_test_split(X_boston, y_boston, train_size=0.8, random_state=42)\n",
    "\n",
    "scaler = StandardScaler()\n",
    "\n",
    "X_boston_train_s = scaler.fit_transform(X_boston_train)\n",
    "X_boston_test_s = scaler.transform(X_boston_test)"
   ]
  },
  {
   "cell_type": "markdown",
   "metadata": {},
   "source": [
    "Entrenemos un modelo con todas las variables para tomarlo de referencia. Para ello usaremos una SVM de regresión, ya que la variable respuesta es cuantitativa."
   ]
  },
  {
   "cell_type": "code",
   "execution_count": 7,
   "metadata": {},
   "outputs": [
    {
     "name": "stdout",
     "output_type": "stream",
     "text": [
      "Error cuadrático medio: 28.91852267161813\n"
     ]
    }
   ],
   "source": [
    "from sklearn.svm import SVR\n",
    "from sklearn.metrics import mean_squared_error\n",
    "import os\n",
    "\n",
    "num_cores = os.cpu_count()\n",
    "\n",
    "# Entrenar modelo\n",
    "svr_model = SVR(kernel='linear')\n",
    "svr_model.fit(X_boston_train_s, y_boston_train)\n",
    "\n",
    "# Predecir en el conjunto de test\n",
    "y_test_pred = svr_model.predict(X_boston_test_s)\n",
    "\n",
    "# Error \n",
    "error = mean_squared_error(y_boston_test, y_test_pred)\n",
    "print(f'Error cuadrático medio: {error}')"
   ]
  },
  {
   "cell_type": "markdown",
   "metadata": {},
   "source": [
    "## `SelectKBest` en regresión\n",
    "\n",
    "Esta función forma parte del paquete de sklearn. Su funcionamiento es sencillo: __selecciona las k mejores variables__ en función del criterio que nosotros le indiquemos. Lo habitual en problemas de regresión es utilizar como criterio el `f_regression`, que está muy relacionado con la correlación entre las variables predictoras y la respuesta, aunque hay otras alternativas, como `mutual_info_regression`, especialmente recomendada si creemos que la relación entre las variables y la respuesta puede ser no lineal. Podeis consultar toda la información de esta función [aquí](https://scikit-learn.org/stable/modules/generated/sklearn.feature_selection.SelectKBest.html#sklearn.feature_selection.SelectKBest)\n",
    "\n",
    "![image.png](plots/f_mi.png)"
   ]
  },
  {
   "cell_type": "code",
   "execution_count": 8,
   "metadata": {},
   "outputs": [
    {
     "data": {
      "text/plain": [
       "SelectKBest(k='all', score_func=<function f_regression at 0x000002190151F550>)"
      ]
     },
     "execution_count": 8,
     "metadata": {},
     "output_type": "execute_result"
    }
   ],
   "source": [
    "from sklearn.feature_selection import SelectKBest, f_regression\n",
    "\n",
    "selector = SelectKBest(f_regression, k=\"all\")\n",
    "selector.fit(X_boston_train_s, y_boston_train)"
   ]
  },
  {
   "cell_type": "markdown",
   "metadata": {},
   "source": [
    "Las métricas de cada variable se almacenan en `selector.scores_`. Representemoslas gráficamente"
   ]
  },
  {
   "cell_type": "code",
   "execution_count": 9,
   "metadata": {},
   "outputs": [
    {
     "data": {
      "text/plain": [
       "<BarContainer object of 13 artists>"
      ]
     },
     "execution_count": 9,
     "metadata": {},
     "output_type": "execute_result"
    },
    {
     "data": {
      "image/png": "[encoded data removed]",
      "text/plain": [
       "<Figure size 1008x432 with 1 Axes>"
      ]
     },
     "metadata": {
      "needs_background": "light"
     },
     "output_type": "display_data"
    }
   ],
   "source": [
    "plt.figure(figsize=(14, 6))\n",
    "plt.bar(boston.feature_names, selector.scores_)"
   ]
  },
  {
   "cell_type": "markdown",
   "metadata": {},
   "source": [
    "Podemos ver que las variables más importantes son `LSTAT` y `RM`. Así que seleccionaremos estas dos variables y construiremos un nuevo modelo solo con ellas. Esto reducirá la dimensión desde las 13 variables iniciales a 2."
   ]
  },
  {
   "cell_type": "code",
   "execution_count": 10,
   "metadata": {},
   "outputs": [
    {
     "name": "stdout",
     "output_type": "stream",
     "text": [
      "Error cuadrático medio: 33.280592005672716\n"
     ]
    }
   ],
   "source": [
    "# Seleccionar variables en train\n",
    "selector = SelectKBest(f_regression, k=2)\n",
    "X_train_reduced = selector.fit_transform(X_boston_train_s, y_boston_train)\n",
    "\n",
    "# Seleccionar variables en test\n",
    "X_test_reduced = selector.transform(X_boston_test_s)\n",
    "\n",
    "svr_model.fit(X_train_reduced, y_boston_train)\n",
    "\n",
    "# Predecir en el conjunto de test\n",
    "y_test_pred = svr_model.predict(X_test_reduced)\n",
    "\n",
    "# Error \n",
    "error = mean_squared_error(y_boston_test, y_test_pred)\n",
    "print(f'Error cuadrático medio: {error}')"
   ]
  },
  {
   "cell_type": "markdown",
   "metadata": {},
   "source": [
    "### <font color='D12828'> Ejercicio: </font>\n",
    "1. Construye una SVM utilizando las 4 mejores variables de acuerdo al criterio de `mutual_info_regression`\n",
    "2. Obtén el valor del error cuadrático medio en el conjunto de test"
   ]
  },
  {
   "cell_type": "code",
   "execution_count": 11,
   "metadata": {},
   "outputs": [
    {
     "name": "stdout",
     "output_type": "stream",
     "text": [
      "Error cuadrático medio: 28.561871265658876\n"
     ]
    }
   ],
   "source": [
    "# Ejercicio\n",
    "\n",
    "from sklearn.feature_selection import mutual_info_regression\n",
    "\n",
    "# Seleccionar variables en train\n",
    "selector = SelectKBest(mutual_info_regression, k=4)\n",
    "X_train_reduced = selector.fit_transform(X_boston_train_s, y_boston_train)\n",
    "\n",
    "# Seleccionar variables en test\n",
    "X_test_reduced = selector.transform(X_boston_test_s)\n",
    "\n",
    "svr_model.fit(X_train_reduced, y_boston_train)\n",
    "\n",
    "# Predecir en el conjunto de test\n",
    "y_test_pred = svr_model.predict(selector.transform(X_boston_test_s))\n",
    "\n",
    "# Error \n",
    "error = mean_squared_error(y_boston_test, y_test_pred)\n",
    "print(f'Error cuadrático medio: {error}')"
   ]
  },
  {
   "cell_type": "markdown",
   "metadata": {},
   "source": [
    "### <font color='D12828'> Ejercicio: </font>\n",
    "\n",
    "1. Construye un pipeline que:\n",
    "  1. Estandarice los datos\n",
    "  2. Llame a SelectKBest usando el criterio de f_regression\n",
    "  3. Construya una SVM\n",
    "2. Usa la función de `GridSearchCV` para optimizar el número de variables seleccionadas de tu pipeline. Pista: `from sklearn.pipeline import Pipeline`, `from sklearn.model_selection import GridSearchCV`"
   ]
  },
  {
   "cell_type": "code",
   "execution_count": 12,
   "metadata": {},
   "outputs": [
    {
     "name": "stdout",
     "output_type": "stream",
     "text": [
      "Fitting 3 folds for each of 13 candidates, totalling 39 fits\n",
      "Pipeline(steps=[('scale', StandardScaler()),\n",
      "                ('selector',\n",
      "                 SelectKBest(k=12,\n",
      "                             score_func=<function f_regression at 0x000002190151F550>)),\n",
      "                ('svr', SVR(kernel='linear'))])\n"
     ]
    }
   ],
   "source": [
    "# Ejercicio\n",
    "\n",
    "from sklearn.pipeline import Pipeline\n",
    "from sklearn.model_selection import GridSearchCV\n",
    "\n",
    "svr_kbest_pipe = Pipeline([\n",
    "    ('scale', StandardScaler()),\n",
    "    ('selector', SelectKBest(f_regression)),\n",
    "    ('svr', SVR(kernel='linear'))\n",
    "])\n",
    "\n",
    "param_grid = [{'selector__k':np.arange(1, 14).tolist()}]\n",
    "\n",
    "grid_search = GridSearchCV(svr_kbest_pipe, \n",
    "                           param_grid,\n",
    "                           scoring='neg_mean_squared_error',\n",
    "                           cv=3,\n",
    "                           n_jobs=num_cores - 1,\n",
    "                           verbose=1)\n",
    "\n",
    "grid_search.fit(X_boston_train, y_boston_train)\n",
    "\n",
    "final_model = grid_search.best_estimator_\n",
    "\n",
    "print(final_model)"
   ]
  },
  {
   "cell_type": "code",
   "execution_count": 13,
   "metadata": {},
   "outputs": [
    {
     "name": "stdout",
     "output_type": "stream",
     "text": [
      "Error cuadrático medio: 28.43351537816765\n"
     ]
    }
   ],
   "source": [
    "y_test_pred = final_model.predict(X_boston_test)\n",
    "\n",
    "error = mean_squared_error(y_boston_test, y_test_pred)\n",
    "\n",
    "print(f'Error cuadrático medio: {error}')"
   ]
  },
  {
   "cell_type": "markdown",
   "metadata": {},
   "source": [
    "## Breast cancer wisconsin\n",
    "\n",
    "El conjunto de datos de Breast cancer wisconsin está formado por 569 observaciones de pacientes con un tumor, en los cuales se midieron diferentes aspectos de la forma y tamaño del tumor, que conforman 30 variables numéricas. La variable respuesta es categórica, e indica si el tumor es benigno o maligno. El objetivo es predecir el tipo de tumor usando las variables del conjunto de datos. Empecemos observando descargando los datos y observando si las dos categorías están balanceadas:"
   ]
  },
  {
   "cell_type": "code",
   "execution_count": 14,
   "metadata": {},
   "outputs": [
    {
     "data": {
      "text/plain": [
       "<BarContainer object of 2 artists>"
      ]
     },
     "execution_count": 14,
     "metadata": {},
     "output_type": "execute_result"
    },
    {
     "data": {
      "image/png": "[encoded data removed]",
      "text/plain": [
       "<Figure size 432x288 with 1 Axes>"
      ]
     },
     "metadata": {
      "needs_background": "light"
     },
     "output_type": "display_data"
    }
   ],
   "source": [
    "from sklearn.datasets import load_breast_cancer\n",
    "\n",
    "bc = load_breast_cancer()\n",
    "\n",
    "X_bc, y_bc = bc.data, bc.target\n",
    "\n",
    "value, count = np.unique(y_bc, return_counts=True)\n",
    "plt.bar(value, count)"
   ]
  },
  {
   "cell_type": "markdown",
   "metadata": {},
   "source": [
    "## `SelectKBest` en clasificación\n",
    "\n",
    "Hemos visto cómo hacer una selección de variables si trabajamos en un problema de regresión, en el que la variable respuesta sea cuantitativa. También podemos hacer el mismo proceso en problemas de clasificación, utilizándo métricas especiales para clasificación. Se usan especialmente las métricas de `f_classif` y de `mutual_info_classif`. Para variar de las SVM, utilizaremos el algoritmo de los K vecinos más próximos `KNeighborsClassifier` en este ejemplo. \n"
   ]
  },
  {
   "cell_type": "code",
   "execution_count": 15,
   "metadata": {},
   "outputs": [],
   "source": [
    "X_bc_train, X_bc_test, y_bc_train, y_bc_test = train_test_split(X_bc, y_bc, test_size=0.2, random_state=42, stratify=y_bc)\n",
    "\n",
    "scaler = StandardScaler()\n",
    "X_bc_train_s = scaler.fit_transform(X_bc_train)\n",
    "X_bc_test_s = scaler.fit_transform(X_bc_test)"
   ]
  },
  {
   "cell_type": "code",
   "execution_count": 16,
   "metadata": {},
   "outputs": [
    {
     "name": "stdout",
     "output_type": "stream",
     "text": [
      "Accuracy: 0.9736842105263158\n"
     ]
    }
   ],
   "source": [
    "from sklearn.neighbors import KNeighborsClassifier\n",
    "from sklearn.metrics import accuracy_score\n",
    "\n",
    "# Entrenar modelo\n",
    "knn = KNeighborsClassifier(n_neighbors = 10)\n",
    "knn.fit(X_bc_train_s, y_bc_train)\n",
    "\n",
    "# Predecir en el conjunto de test\n",
    "y_test_pred = knn.predict(X_bc_test_s)\n",
    "\n",
    "# Error \n",
    "error = accuracy_score(y_bc_test, y_test_pred)\n",
    "print(f'Accuracy: {error}')"
   ]
  },
  {
   "cell_type": "markdown",
   "metadata": {},
   "source": [
    "### <font color='D12828'> Ejercicio: </font>\n",
    "1. Usa `SelectKBest` y representa gráficamente la importancia de las variables de acuerdo al test `f_classif`\n",
    "2. Construye una SVM con el número de variables que consideres óptimo en base al gráfico"
   ]
  },
  {
   "cell_type": "code",
   "execution_count": 17,
   "metadata": {},
   "outputs": [
    {
     "data": {
      "text/plain": [
       "<BarContainer object of 30 artists>"
      ]
     },
     "execution_count": 17,
     "metadata": {},
     "output_type": "execute_result"
    },
    {
     "data": {
      "image/png": "[encoded data removed]",
      "text/plain": [
       "<Figure size 1008x432 with 1 Axes>"
      ]
     },
     "metadata": {
      "needs_background": "light"
     },
     "output_type": "display_data"
    }
   ],
   "source": [
    "# Ejercicio\n",
    "\n",
    "from sklearn.feature_selection import f_classif, mutual_info_classif\n",
    "\n",
    "selector = SelectKBest(f_classif, k=\"all\")\n",
    "selector.fit(X_bc_train_s, y_bc_train)\n",
    "\n",
    "plt.figure(figsize=(14, 6))\n",
    "plt.bar(bc.feature_names, selector.scores_)"
   ]
  },
  {
   "cell_type": "code",
   "execution_count": 18,
   "metadata": {},
   "outputs": [
    {
     "name": "stdout",
     "output_type": "stream",
     "text": [
      "Accuracy: 0.9473684210526315\n"
     ]
    }
   ],
   "source": [
    "# Ejercicio (parte 2)\n",
    "\n",
    "# Seleccionar variables en train\n",
    "selector = SelectKBest(f_classif, k=6)\n",
    "X_train_reduced = selector.fit_transform(X_bc_train_s, y_bc_train)\n",
    "\n",
    "# Seleccionar variables en test\n",
    "X_test_reduced = selector.transform(X_bc_test_s)\n",
    "\n",
    "knn.fit(X_train_reduced, y_bc_train)\n",
    "\n",
    "# Predecir en el conjunto de test\n",
    "y_test_pred = knn.predict(X_test_reduced)\n",
    "\n",
    "# Error \n",
    "error = accuracy_score(y_bc_test, y_test_pred)\n",
    "print(f'Accuracy: {error}')"
   ]
  },
  {
   "cell_type": "markdown",
   "metadata": {},
   "source": [
    "# Análisis de componentes principales (PCA)\n",
    "___\n",
    "\n",
    "El PCA es la técnica de reducción de la dimensión más utilizada en el mundo. La idea básica detrás del PCA consiste en utilizar las variables originales para __construir unas nuevas variables__, de forma que estas nuevas variables, llamadas componentes principales, expliquen la __mayor cantidad de información__ posible pero sean __ortogonales__ entre sí. Al ser ortogonales entre si, no comparten información por lo que con un número pequeño de componentes principales, se puede explicar la gran mayoría de la información del conjunto de datos original.\n",
    "\n",
    "Matemáticamene, buscamos encontrar una matriz $P$ tal que $XP=T$, donde $X$ es la matriz con las variables originales, y $T$ es la matriz con las nuevas variables. Veamos un ejemplo con el conjunto de datos de iris. Empecemos sin reducir dimensión, calculando 4 componentes."
   ]
  },
  {
   "cell_type": "code",
   "execution_count": 19,
   "metadata": {},
   "outputs": [],
   "source": [
    "from sklearn.decomposition import PCA\n",
    "from sklearn.datasets import load_iris\n",
    "\n",
    "iris = load_iris()\n",
    "X_iris, y_iris = iris.data, iris.target"
   ]
  },
  {
   "cell_type": "code",
   "execution_count": 20,
   "metadata": {},
   "outputs": [
    {
     "data": {
      "text/html": [
       "<div>\n",
       "<style scoped>\n",
       "    .dataframe tbody tr th:only-of-type {\n",
       "        vertical-align: middle;\n",
       "    }\n",
       "\n",
       "    .dataframe tbody tr th {\n",
       "        vertical-align: top;\n",
       "    }\n",
       "\n",
       "    .dataframe thead th {\n",
       "        text-align: right;\n",
       "    }\n",
       "</style>\n",
       "<table border=\"1\" class=\"dataframe\">\n",
       "  <thead>\n",
       "    <tr style=\"text-align: right;\">\n",
       "      <th></th>\n",
       "      <th>PC1</th>\n",
       "      <th>PC2</th>\n",
       "      <th>PC3</th>\n",
       "      <th>PC4</th>\n",
       "    </tr>\n",
       "  </thead>\n",
       "  <tbody>\n",
       "    <tr>\n",
       "      <th>sepal length (cm)</th>\n",
       "      <td>0.361387</td>\n",
       "      <td>0.656589</td>\n",
       "      <td>-0.582030</td>\n",
       "      <td>-0.315487</td>\n",
       "    </tr>\n",
       "    <tr>\n",
       "      <th>sepal width (cm)</th>\n",
       "      <td>-0.084523</td>\n",
       "      <td>0.730161</td>\n",
       "      <td>0.597911</td>\n",
       "      <td>0.319723</td>\n",
       "    </tr>\n",
       "    <tr>\n",
       "      <th>petal length (cm)</th>\n",
       "      <td>0.856671</td>\n",
       "      <td>-0.173373</td>\n",
       "      <td>0.076236</td>\n",
       "      <td>0.479839</td>\n",
       "    </tr>\n",
       "    <tr>\n",
       "      <th>petal width (cm)</th>\n",
       "      <td>0.358289</td>\n",
       "      <td>-0.075481</td>\n",
       "      <td>0.545831</td>\n",
       "      <td>-0.753657</td>\n",
       "    </tr>\n",
       "  </tbody>\n",
       "</table>\n",
       "</div>"
      ],
      "text/plain": [
       "                        PC1       PC2       PC3       PC4\n",
       "sepal length (cm)  0.361387  0.656589 -0.582030 -0.315487\n",
       "sepal width (cm)  -0.084523  0.730161  0.597911  0.319723\n",
       "petal length (cm)  0.856671 -0.173373  0.076236  0.479839\n",
       "petal width (cm)   0.358289 -0.075481  0.545831 -0.753657"
      ]
     },
     "execution_count": 20,
     "metadata": {},
     "output_type": "execute_result"
    }
   ],
   "source": [
    "pca_iris = PCA(n_components=4)\n",
    "\n",
    "T_iris = pca_iris.fit_transform(X_iris)  # scores\n",
    "P_iris = pca_iris.components_.T          # loadings\n",
    "\n",
    "P_iris = pd.DataFrame(P_iris, index=iris.feature_names, columns=['PC1', 'PC2', 'PC3', 'PC4'])\n",
    "P_iris"
   ]
  },
  {
   "cell_type": "markdown",
   "metadata": {},
   "source": [
    "Cada componente principal no es más que un vector apuntando en la dirección de la nueva variable. Como dos vectores con signo opuesto están en el mismo eje aunque tengan direcciones opuestas, __el signo de las componentes principales no es estable__, aunque el valor de los coeficientes sí lo sea. Además, las componentes pueden ser interpretadas (en función de nuestro conocimiento previo de las variables originales). Por ejemplo, \n",
    "\n",
    "* La segunda componente, PC2 tiene valores grandes para _sepal length_ y _sepal width_, por lo que es una variable que agrupa la información acerca de la forma del sépalo. A mayor sepalo, mayor será PC2.\n",
    "* La tercera componente, PC3 tiene un peso negativo para _sepal length_, y positivo para _sepal_width_ y _petal_width_. Esta variable tendrá valores grandes si el petalo y el sépalo son anchos, y el sépalo no es muy largo.\n",
    "\n",
    "## Comprobación matricial \n",
    "\n",
    "Para hacer PCA es necesario trabajar con los datos centrados. Usando sklearn, el algoritmo los centra automáticamente. Hemos dicho que $XP=T$. Veamos si esto es cierto:"
   ]
  },
  {
   "cell_type": "code",
   "execution_count": 21,
   "metadata": {},
   "outputs": [
    {
     "name": "stdout",
     "output_type": "stream",
     "text": [
      "Xs: [-0.74333333  0.44266667 -2.358      -0.99933333]\n"
     ]
    }
   ],
   "source": [
    "# Centramos los datos\n",
    "X_s = X_iris - np.mean(X_iris, axis=0)\n",
    "\n",
    "# Visualizamos la primera fila de la matriz centrada\n",
    "print(f'Xs: {X_s[0,]}')"
   ]
  },
  {
   "cell_type": "code",
   "execution_count": 22,
   "metadata": {},
   "outputs": [
    {
     "name": "stdout",
     "output_type": "stream",
     "text": [
      "T: [-2.68412563e+00  3.19397247e-01 -2.79148276e-02 -2.26243707e-03]\n",
      "\n",
      "XP=[-2.68412563e+00  3.19397247e-01 -2.79148276e-02 -2.26243707e-03]\n"
     ]
    }
   ],
   "source": [
    "# Calculamos el producto de XP\n",
    "print(f'T: {T_iris[0,]}\\n')\n",
    "print(f'XP={np.dot(X_s, P_iris)[0,:]}')\n"
   ]
  },
  {
   "cell_type": "markdown",
   "metadata": {},
   "source": [
    "De la misma forma, dadas $T$ y $P$ podemos reconstruir $X$: $X=TP^t$"
   ]
  },
  {
   "cell_type": "code",
   "execution_count": 23,
   "metadata": {},
   "outputs": [
    {
     "name": "stdout",
     "output_type": "stream",
     "text": [
      "Xs : [-0.74333333  0.44266667 -2.358      -0.99933333]\n",
      "\n",
      "TP.T=[-0.74333333  0.44266667 -2.358      -0.99933333]\n"
     ]
    }
   ],
   "source": [
    "print(f'Xs : {X_s[0,]}\\n')\n",
    "print(f'TP.T={np.dot(T_iris, P_iris.T)[0,:]}')"
   ]
  },
  {
   "cell_type": "markdown",
   "metadata": {},
   "source": [
    "### <font color='D12828'> Ejercicio: </font>\n",
    "1. Utilizando el conjunto de datos de cancer de mama `X_bc`, obtén las 4 primeras componentes principales."
   ]
  },
  {
   "cell_type": "code",
   "execution_count": 24,
   "metadata": {},
   "outputs": [
    {
     "data": {
      "text/plain": [
       "(30, 4)"
      ]
     },
     "execution_count": 24,
     "metadata": {},
     "output_type": "execute_result"
    }
   ],
   "source": [
    "# Ejercicio\n",
    "\n",
    "pca_bc = PCA(n_components=4)\n",
    "T_bc = pca_bc.fit_transform(X_bc)    \n",
    "P_bc = pca_bc.components_.T\n",
    "\n",
    "P_bc.shape"
   ]
  },
  {
   "cell_type": "markdown",
   "metadata": {},
   "source": [
    "## Variabilidad explicada\n",
    "\n",
    "Habíamos dicho que las componentes principales se conatruían de forma que cada una explicaba la mayor cantidad de información posible, siendo ortogonales entre sí (es decir, la información que cada variable proporciona es diferente del resto) ¿Pero cuanta información proporciona cada variable? Eso se almacena en `pca.explained_variance_ratio_`:"
   ]
  },
  {
   "cell_type": "code",
   "execution_count": 25,
   "metadata": {},
   "outputs": [
    {
     "data": {
      "text/plain": [
       "array([0.92461872, 0.05306648, 0.01710261, 0.00521218])"
      ]
     },
     "execution_count": 25,
     "metadata": {},
     "output_type": "execute_result"
    }
   ],
   "source": [
    "pca_iris.explained_variance_ratio_"
   ]
  },
  {
   "cell_type": "code",
   "execution_count": 26,
   "metadata": {},
   "outputs": [
    {
     "data": {
      "text/plain": [
       "array([0.92461872, 0.97768521, 0.99478782, 1.        ])"
      ]
     },
     "execution_count": 26,
     "metadata": {},
     "output_type": "execute_result"
    }
   ],
   "source": [
    "np.cumsum(pca_iris.explained_variance_ratio_)"
   ]
  },
  {
   "cell_type": "markdown",
   "metadata": {},
   "source": [
    "Esto nos indica que la primera variable proporciona un 92% de la información original, la segunda variable un 5%, la tercera un 1.7% y la última únicamente proporciona un 0.5%. Básicamente, si en la matriz `T_pca` seleccionasemos las dos primeras columnas, pasaríamos a tener un conjunto de datos de dos dimensiones que explica el 97% de la variabilidad original. Podríamos reducir la dimensión a la mitad sin perder prácticamente nada de información. "
   ]
  },
  {
   "cell_type": "markdown",
   "metadata": {},
   "source": [
    "### <font color='D12828'> Ejercicio: </font>\n",
    "1. Obtén la variabilidad explicada por cada componente principal calculada para el conjunto de datos de cancer en el ejercicio anterior\n",
    "2. Haz un scatterplot de las dos primeras componentes principales. Haz que el color cambie en función del tipo de tumor (almacenado en `y_bc`)"
   ]
  },
  {
   "cell_type": "code",
   "execution_count": 27,
   "metadata": {},
   "outputs": [
    {
     "name": "stdout",
     "output_type": "stream",
     "text": [
      "[0.98204467 0.99822116 0.99977867 0.9998996 ]\n"
     ]
    },
    {
     "data": {
      "text/plain": [
       "<matplotlib.collections.PathCollection at 0x21901185580>"
      ]
     },
     "execution_count": 27,
     "metadata": {},
     "output_type": "execute_result"
    },
    {
     "data": {
      "image/png": "[encoded data removed]",
      "text/plain": [
       "<Figure size 576x576 with 1 Axes>"
      ]
     },
     "metadata": {
      "needs_background": "light"
     },
     "output_type": "display_data"
    }
   ],
   "source": [
    "# Ejercicio\n",
    "\n",
    "print(np.cumsum(pca_bc.explained_variance_ratio_))\n",
    "\n",
    "plt.figure(figsize=(8,8))\n",
    "plt.scatter(T_bc[:,0], T_bc[:,1], c=y_bc, s=10)"
   ]
  },
  {
   "cell_type": "markdown",
   "metadata": {},
   "source": [
    "## ¿Afecta la escala de las variables?"
   ]
  },
  {
   "cell_type": "markdown",
   "metadata": {},
   "source": [
    "### <font color='D12828'> Ejercicio: </font>\n",
    "\n",
    "1. Obtén las dos primeras componentes principales del conjunto de datos de cancer escalado `X_bc_train`\n",
    "2. Haz un scatterplot de las dos primeras componentes principales. Haz que el color cambie en función del tipo de tumor (almacenado en y_bc_train)"
   ]
  },
  {
   "cell_type": "code",
   "execution_count": 28,
   "metadata": {},
   "outputs": [
    {
     "name": "stdout",
     "output_type": "stream",
     "text": [
      "[0.44413492 0.6335811 ]\n"
     ]
    },
    {
     "data": {
      "text/plain": [
       "<matplotlib.collections.PathCollection at 0x2190111c4f0>"
      ]
     },
     "execution_count": 28,
     "metadata": {},
     "output_type": "execute_result"
    },
    {
     "data": {
      "image/png": "[encoded data removed]",
      "text/plain": [
       "<Figure size 576x576 with 1 Axes>"
      ]
     },
     "metadata": {
      "needs_background": "light"
     },
     "output_type": "display_data"
    }
   ],
   "source": [
    "# Ejercicio\n",
    "\n",
    "pca_bc = PCA(n_components=2)\n",
    "T_bc = pca_bc.fit_transform(X_bc_train_s)    \n",
    "print(np.cumsum(pca_bc.explained_variance_ratio_))\n",
    "\n",
    "plt.figure(figsize=(8,8))\n",
    "plt.scatter(T_bc[:,0], T_bc[:,1], c=y_bc_train, s=10)"
   ]
  },
  {
   "cell_type": "markdown",
   "metadata": {},
   "source": [
    "## ¿Con cuantas componentes nos quedamos?\n",
    "\n",
    "Si nuestra matriz de datos original $X$ tiene $n$ observaciones y $p$ variables, podremos calcular como máximo, min(n, p) componentes. Eso quiere decir que:\n",
    "\n",
    "* Si tenemos 500 filas y 10 variables, como máximo podremos obtener __10 componentes principales__, y las 10 componentes explicarán el 100% de la variabilidad original.\n",
    "* Si tenemos 100 filas y 2000 variables, como máximo podremos obtener __100 componentes principales__, que explicarán el 100% de la variabilidad original.\n",
    "\n",
    "Observa que en problemas de __alta dimensión__, en los que el número de variables es mayor que el número de observaciones, PCA permite conseguir una __gran reducción de la dimensión__ sin ofrecer casi pérdida de información. __El coste, claro, está en la interpretabilidad de las nuevas variables__.\n",
    "\n",
    "Por otro lado, más que un número al azar de componentes, lo habitual es elegir el número de componentes tal que nos permita explicar hasta un cierto porcentaje de la variabilidad original (lo habitual suele ser en torno al 95% pero depende de los datos). Sklearn tiene esto en cuenta, así que el parámetro `n_components` puede fijarse como un número de componentes, o, si es un número entre 0 y 1, se interpreta como un porcentaje de variabilidad a explicar. Por ejemplo, construyamos suficientes componentes para explicar el 95% de la variabilidad del conjunto de datos de iris."
   ]
  },
  {
   "cell_type": "code",
   "execution_count": 29,
   "metadata": {},
   "outputs": [
    {
     "data": {
      "text/plain": [
       "array([[ 0.36138659,  0.65658877],\n",
       "       [-0.08452251,  0.73016143],\n",
       "       [ 0.85667061, -0.17337266],\n",
       "       [ 0.3582892 , -0.07548102]])"
      ]
     },
     "execution_count": 29,
     "metadata": {},
     "output_type": "execute_result"
    }
   ],
   "source": [
    "pca_iris = PCA(n_components=0.95)\n",
    "\n",
    "T_iris = pca_iris.fit_transform(X_iris)  # scores\n",
    "P_iris = pca_iris.components_.T          # loadings\n",
    "\n",
    "P_iris"
   ]
  },
  {
   "cell_type": "markdown",
   "metadata": {},
   "source": [
    "### <font color='D12828'> Ejercicio: </font>\n",
    "\n",
    "1. Obtén las componentes principales suficientes para explicar el 90% de la variabilidad del conjunto de datos de cancer estandarizado. ¿Cuantas componentes son suficientes?\n",
    "2. Construye un clasificador KNN con `n_neighbors=10` que utilice estas componentes principales\n",
    "3. Obtén el error de clasificación "
   ]
  },
  {
   "cell_type": "code",
   "execution_count": 30,
   "metadata": {},
   "outputs": [
    {
     "name": "stdout",
     "output_type": "stream",
     "text": [
      "(455, 7)\n",
      "Accuracy: 0.956140350877193\n"
     ]
    }
   ],
   "source": [
    "# Ejercicio\n",
    "\n",
    "pca_bc = PCA(n_components=0.90)\n",
    "T_bc = pca_bc.fit_transform(X_bc_train_s)\n",
    "T_bc_test = pca_bc.transform(X_bc_test_s)\n",
    "\n",
    "print(T_bc.shape)\n",
    "\n",
    "knn.fit(T_bc, y_bc_train)\n",
    "\n",
    "# Predecir en el conjunto de test\n",
    "y_test_pred = knn.predict(T_bc_test)\n",
    "\n",
    "# Error \n",
    "error = accuracy_score(y_bc_test, y_test_pred)\n",
    "print(f'Accuracy: {error}')"
   ]
  },
  {
   "cell_type": "markdown",
   "metadata": {},
   "source": [
    "### <font color='D12828'> Ejercicio: </font>\n",
    "4. Repite el proceso con el conjunto de datos no estandarizado. ¿Cual da mejor resultado?"
   ]
  },
  {
   "cell_type": "code",
   "execution_count": 31,
   "metadata": {},
   "outputs": [
    {
     "name": "stdout",
     "output_type": "stream",
     "text": [
      "(455, 1)\n",
      "Accuracy: 0.9298245614035088\n"
     ]
    }
   ],
   "source": [
    "# Ejercicio\n",
    "\n",
    "pca_bc = PCA(n_components=0.90)\n",
    "T_bc = pca_bc.fit_transform(X_bc_train)\n",
    "T_bc_test = pca_bc.transform(X_bc_test)\n",
    "\n",
    "print(T_bc.shape)\n",
    "\n",
    "knn.fit(T_bc, y_bc_train)\n",
    "\n",
    "# Predecir en el conjunto de test\n",
    "y_test_pred = knn.predict(T_bc_test)\n",
    "\n",
    "# Error \n",
    "error = accuracy_score(y_bc_test, y_test_pred)\n",
    "print(f'Accuracy: {error}')"
   ]
  },
  {
   "cell_type": "markdown",
   "metadata": {},
   "source": [
    "Geométricamente, quedarse con tantas componentes principales como el número de variables iniciales implica que el número de dimensiones, y la distancia entre las observaciones es la misma, es decir, no traería ningún cambio en los resultados de un algoritmo predictivo con respecto a usar los datos originales."
   ]
  },
  {
   "cell_type": "markdown",
   "metadata": {},
   "source": [
    "### <font color='D12828'> Ejercicio: </font>\n",
    "1. En el conjunto de datos de boston estandarizado `X_boston_train_s`, construye una SVM de regresión con todas las variables y obtén el error cuadrático medio\n",
    "2. Obtén tantas componentes principales como variables haya en el conjunto de datos boston estandarizado, y construye otra SVM con las componentes. Obtén el error cuadrático medio"
   ]
  },
  {
   "cell_type": "code",
   "execution_count": 32,
   "metadata": {},
   "outputs": [
    {
     "name": "stdout",
     "output_type": "stream",
     "text": [
      "Accuracy: 28.91852267161813\n"
     ]
    }
   ],
   "source": [
    "# Ejercicio\n",
    "\n",
    "svr = SVR(kernel='linear')\n",
    "svr.fit(X_boston_train_s, y_boston_train)\n",
    "\n",
    "# Predecir en el conjunto de test\n",
    "y_test_pred = svr.predict(X_boston_test_s)\n",
    "\n",
    "# Error \n",
    "error = mean_squared_error(y_boston_test, y_test_pred)\n",
    "print(f'Accuracy: {error}')"
   ]
  },
  {
   "cell_type": "code",
   "execution_count": 33,
   "metadata": {},
   "outputs": [
    {
     "name": "stdout",
     "output_type": "stream",
     "text": [
      "Accuracy: 28.918522671618433\n"
     ]
    }
   ],
   "source": [
    "# Ejercicio\n",
    "\n",
    "pca_boston = PCA(n_components=X_boston.shape[1])\n",
    "T_boston_train = pca_boston.fit_transform(X_boston_train_s)\n",
    "T_boston_test = pca_boston.transform(X_boston_test_s)\n",
    "\n",
    "svr.fit(T_boston_train, y_boston_train)\n",
    "\n",
    "# Predecir en el conjunto de test\n",
    "y_test_pred = svr.predict(T_boston_test)\n",
    "\n",
    "# Error \n",
    "error = mean_squared_error(y_boston_test, y_test_pred)\n",
    "print(f'Accuracy: {error}')"
   ]
  },
  {
   "cell_type": "markdown",
   "metadata": {},
   "source": [
    "# Linear discriminant analysis\n",
    "\n",
    "Otro tipo de proyección que ya conocereis es el linear discriminant analysis, utilizado en problemas de clasificación. La idea detrás de esta técnica es sencilla: construir unas nuevas variables en base a las originales en las que clasificar los datos sea más sencillo que con las variables originales. El número de componentes que se pueden calcular aquí es min(n_classes - 1, n_var)). Usemos esta técnica con los datos de cancer. Dado que en estos datos tenemos 30 variables pero solo 2 categorías, proyectaremos los datos en 1 dimensión."
   ]
  },
  {
   "cell_type": "code",
   "execution_count": 34,
   "metadata": {},
   "outputs": [
    {
     "data": {
      "text/plain": [
       "<matplotlib.collections.PathCollection at 0x2197fff8730>"
      ]
     },
     "execution_count": 34,
     "metadata": {},
     "output_type": "execute_result"
    },
    {
     "data": {
      "image/png": "[encoded data removed]",
      "text/plain": [
       "<Figure size 432x288 with 1 Axes>"
      ]
     },
     "metadata": {
      "needs_background": "light"
     },
     "output_type": "display_data"
    }
   ],
   "source": [
    "from sklearn.discriminant_analysis import LinearDiscriminantAnalysis\n",
    "\n",
    "lda = LinearDiscriminantAnalysis()\n",
    "\n",
    "X_bc_train_lda = lda.fit_transform(X_bc_train_s, y_bc_train)\n",
    "\n",
    "plt.scatter(X_bc_train_lda[:,0], [0]*455, c=y_bc_train)"
   ]
  },
  {
   "cell_type": "code",
   "execution_count": 35,
   "metadata": {},
   "outputs": [
    {
     "name": "stdout",
     "output_type": "stream",
     "text": [
      "Accuracy: 0.9649122807017544\n"
     ]
    }
   ],
   "source": [
    "# Predecir en el conjunto de test\n",
    "y_test_pred = lda.predict(X_bc_test_s)\n",
    "\n",
    "# Error \n",
    "error = accuracy_score(y_bc_test, y_test_pred)\n",
    "print(f'Accuracy: {error}')"
   ]
  },
  {
   "cell_type": "markdown",
   "metadata": {},
   "source": [
    "# Final\n",
    "___\n",
    "Con esto termina nuestra introducción a las técnicas de reducción de la dimensión, ¡espero que hayais dsifrutado!\n",
    "\n",
    "![image.png](plots/fin_svm_2.png)\n"
   ]
  }
 ],
 "metadata": {
  "kernelspec": {
   "display_name": "Python 3",
   "language": "python",
   "name": "python3"
  },
  "language_info": {
   "codemirror_mode": {
    "name": "ipython",
    "version": 3
   },
   "file_extension": ".py",
   "mimetype": "text/x-python",
   "name": "python",
   "nbconvert_exporter": "python",
   "pygments_lexer": "ipython3",
   "version": "3.8.5"
  }
 },
 "nbformat": 4,
 "nbformat_minor": 4
}
